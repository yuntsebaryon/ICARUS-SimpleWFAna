{
 "cells": [
  {
   "cell_type": "code",
   "execution_count": 1,
   "metadata": {},
   "outputs": [],
   "source": [
    "import numpy as np\n",
    "import matplotlib.pyplot as plt\n",
    "\n",
    "d = np.arange(100).reshape(10, 10)\n",
    "x, y = np.meshgrid(np.arange(11), np.arange(11))\n",
    "\n",
    "theta = 0.25*np.pi\n",
    "xx = x*np.cos(theta) - y*np.sin(theta)\n",
    "yy = x*np.sin(theta) + y*np.cos(theta)\n",
    "\n",
    "fig, ((ax1, ax2), (ax3, ax4)) = plt.subplots(2, 2)\n",
    "ax1.set_aspect(1)\n",
    "ax1.pcolormesh(xx, yy, d)\n",
    "ax1.set_title(\"No Rasterization\")\n",
    "\n",
    "ax2.set_aspect(1)\n",
    "ax2.set_title(\"Rasterization\")\n",
    "\n",
    "m = ax2.pcolormesh(xx, yy, d)\n",
    "m.set_rasterized(True)\n",
    "\n",
    "ax3.set_aspect(1)\n",
    "ax3.pcolormesh(xx, yy, d)\n",
    "ax3.text(0.5, 0.5, \"Text\", alpha=0.2,\n",
    "         va=\"center\", ha=\"center\", size=50, transform=ax3.transAxes)\n",
    "\n",
    "ax3.set_title(\"No Rasterization\")\n",
    "\n",
    "\n",
    "ax4.set_aspect(1)\n",
    "m = ax4.pcolormesh(xx, yy, d)\n",
    "m.set_zorder(-20)\n",
    "\n",
    "ax4.text(0.5, 0.5, \"Text\", alpha=0.2,\n",
    "         zorder=-15,\n",
    "         va=\"center\", ha=\"center\", size=50, transform=ax4.transAxes)\n",
    "\n",
    "ax4.set_rasterization_zorder(-10)\n",
    "\n",
    "ax4.set_title(\"Rasterization z$<-10$\")\n",
    "\n",
    "\n",
    "# ax2.title.set_rasterized(True) # should display a warning\n",
    "\n",
    "plt.savefig(\"test_rasterization.pdf\", dpi=150)\n",
    "plt.savefig(\"test_rasterization.eps\", dpi=150)\n",
    "\n"
   ]
  },
  {
   "cell_type": "code",
   "execution_count": null,
   "metadata": {},
   "outputs": [],
   "source": []
  }
 ],
 "metadata": {
  "kernelspec": {
   "display_name": "Python 2",
   "language": "python",
   "name": "python2"
  },
  "language_info": {
   "codemirror_mode": {
    "name": "ipython",
    "version": 2
   },
   "file_extension": ".py",
   "mimetype": "text/x-python",
   "name": "python",
   "nbconvert_exporter": "python",
   "pygments_lexer": "ipython2",
   "version": "2.7.15"
  }
 },
 "nbformat": 4,
 "nbformat_minor": 2
}
